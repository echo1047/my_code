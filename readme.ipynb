{
 "cells": [
  {
   "attachments": {},
   "cell_type": "markdown",
   "metadata": {},
   "source": [
    "You can also load data using d4rl.qlearning_dataset(env), which formats the data for use by typical Q-learning algorithms by adding a next_observations key (s, a, s', r, done).\n",
    "\n",
    "逐过程（step out）是指从断点处开始，执行完当前函数的剩余部分，然后跳出当前函数，返回到调用源进行调试。这样可以快速结束函数的执行，不用一步一步地跳过函数内部的语句。\n",
    "单步调试（step into）是指从断点处开始，一次执行一个语句，如果该语句是一个函数的调用，那么下一条出现的语句是这个函数的第一条语句。这样可以进入函数内部查看函数的执行过程和结果。\n",
    "单步跳过（step over）是指从断点处开始，一次执行一个语句，如果该语句是一个函数的调用，那么直接运行完这个函数，然后跳到下一行进行调试。这样可以忽略函数内部的细节，只关注函数的输入和输出。"
   ]
  }
 ],
 "metadata": {
  "language_info": {
   "name": "python"
  },
  "orig_nbformat": 4
 },
 "nbformat": 4,
 "nbformat_minor": 2
}
