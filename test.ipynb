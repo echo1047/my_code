{
 "cells": [
  {
   "cell_type": "code",
   "execution_count": 4,
   "metadata": {},
   "outputs": [
    {
     "name": "stderr",
     "output_type": "stream",
     "text": [
      "load datafile: 100%|██████████| 8/8 [00:00<00:00, 36.91it/s]\n"
     ]
    },
    {
     "name": "stdout",
     "output_type": "stream",
     "text": [
      "[[-0.56856084 -0.27724722]\n",
      " [-1.          0.6666507 ]\n",
      " [-1.          1.        ]]\n",
      "[[ 1.0843927   1.97413    -0.12562364 -0.04433781]\n",
      " [ 1.0807577   1.9752754  -0.3634883   0.11453988]\n",
      " [ 1.0747498   1.9787997  -0.60078645  0.35243094]]\n",
      "[0. 0. 0.]\n",
      "[False False False]\n",
      "[[ 1.0856489   1.9745734   0.00981035  0.02174424]\n",
      " [ 1.0843927   1.97413    -0.12562364 -0.04433781]\n",
      " [ 1.0807577   1.9752754  -0.3634883   0.11453988]]\n"
     ]
    }
   ],
   "source": [
    "import gym\n",
    "import d4rl # Import required to register environments, you may need to also import the submodule\n",
    "\n",
    "# Create the environment\n",
    "env = gym.make('maze2d-umaze-v1')\n",
    "\n",
    "# d4rl abides by the OpenAI gym interface\n",
    "env.reset()\n",
    "env.step(env.action_space.sample())\n",
    "\n",
    "# Each task is associated with a dataset\n",
    "# dataset contains observations, actions, rewards, terminals, and infos\n",
    "# dataset = env.get_dataset()\n",
    "# print(dataset['observations']) # An N x dim_observation Numpy array of observations\n",
    "\n",
    "# Alternatively, use d4rl.qlearning_dataset which\n",
    "# also adds next_observations.\n",
    "dataset = d4rl.qlearning_dataset(env)\n",
    "print(dataset['actions'][:3])\n",
    "print(dataset['next_observations'][:3])\n",
    "print(dataset['rewards'][:3])\n",
    "print(dataset['terminals'][:3])\n",
    "# print(dataset['infos'][:3])\n",
    "print(dataset['observations'][:3])"
   ]
  },
  {
   "cell_type": "code",
   "execution_count": 2,
   "metadata": {},
   "outputs": [
    {
     "name": "stderr",
     "output_type": "stream",
     "text": [
      "Warning: Flow failed to import. Set the environment variable D4RL_SUPPRESS_IMPORT_ERROR=1 to suppress this message.\n",
      "No module named 'flow'\n",
      "Warning: CARLA failed to import. Set the environment variable D4RL_SUPPRESS_IMPORT_ERROR=1 to suppress this message.\n",
      "No module named 'carla'\n",
      "pybullet build time: May 20 2022 19:45:31\n"
     ]
    },
    {
     "ename": "NameError",
     "evalue": "name 'env' is not defined",
     "output_type": "error",
     "traceback": [
      "\u001b[0;31m---------------------------------------------------------------------------\u001b[0m",
      "\u001b[0;31mNameError\u001b[0m                                 Traceback (most recent call last)",
      "Cell \u001b[0;32mIn[2], line 4\u001b[0m\n\u001b[1;32m      1\u001b[0m \u001b[39mimport\u001b[39;00m \u001b[39md4rl\u001b[39;00m\n\u001b[0;32m----> 4\u001b[0m dataset \u001b[39m=\u001b[39m d4rl\u001b[39m.\u001b[39mqlearning_dataset(env, randomize\u001b[39m=\u001b[39m\u001b[39mTrue\u001b[39;00m) \u001b[39m# shuffled dataset\u001b[39;00m\n",
      "\u001b[0;31mNameError\u001b[0m: name 'env' is not defined"
     ]
    }
   ],
   "source": [
    "import d4rl\n",
    "\n",
    "\n",
    "dataset = d4rl.qlearning_dataset(env, randomize=True) # shuffled dataset"
   ]
  },
  {
   "cell_type": "code",
   "execution_count": 1,
   "metadata": {},
   "outputs": [
    {
     "name": "stderr",
     "output_type": "stream",
     "text": [
      "usage: ipykernel_launcher.py [-h] [--algo-name ALGO_NAME] [--task TASK]\n",
      "                             [--seed SEED] [--hidden-dims [HIDDEN_DIMS ...]]\n",
      "                             [--actor-lr ACTOR_LR] [--critic-lr CRITIC_LR]\n",
      "                             [--gamma GAMMA] [--tau TAU] [--alpha ALPHA]\n",
      "                             [--target-entropy TARGET_ENTROPY]\n",
      "                             [--auto-alpha AUTO_ALPHA] [--alpha-lr ALPHA_LR]\n",
      "                             [--cql-weight CQL_WEIGHT]\n",
      "                             [--temperature TEMPERATURE]\n",
      "                             [--max-q-backup MAX_Q_BACKUP]\n",
      "                             [--deterministic-backup DETERMINISTIC_BACKUP]\n",
      "                             [--with-lagrange WITH_LAGRANGE]\n",
      "                             [--lagrange-threshold LAGRANGE_THRESHOLD]\n",
      "                             [--cql-alpha-lr CQL_ALPHA_LR]\n",
      "                             [--num-repeat-actions NUM_REPEAT_ACTIONS]\n",
      "                             [--epoch EPOCH] [--step-per-epoch STEP_PER_EPOCH]\n",
      "                             [--eval_episodes EVAL_EPISODES]\n",
      "                             [--batch-size BATCH_SIZE] [--device DEVICE]\n",
      "ipykernel_launcher.py: error: unrecognized arguments: --ip=127.0.0.1 --stdin=9008 --control=9006 --hb=9005 --Session.signature_scheme=\"hmac-sha256\" --Session.key=b\"8cdcbcb7-0195-49cd-8400-03ea8cced81e\" --shell=9007 --transport=\"tcp\" --iopub=9009 --f=/root/.local/share/jupyter/runtime/kernel-v2-2793Mrttv65ri9a.json\n"
     ]
    },
    {
     "ename": "SystemExit",
     "evalue": "2",
     "output_type": "error",
     "traceback": [
      "An exception has occurred, use %tb to see the full traceback.\n",
      "\u001b[0;31mSystemExit\u001b[0m\u001b[0;31m:\u001b[0m 2\n"
     ]
    },
    {
     "name": "stderr",
     "output_type": "stream",
     "text": [
      "/usr/local/lib/python3.9/site-packages/IPython/core/interactiveshell.py:3513: UserWarning: To exit: use 'exit', 'quit', or Ctrl-D.\n",
      "  warn(\"To exit: use 'exit', 'quit', or Ctrl-D.\", stacklevel=1)\n"
     ]
    }
   ],
   "source": [
    "from run_example.run_cql import get_args\n",
    "\n",
    "get_args()"
   ]
  },
  {
   "cell_type": "code",
   "execution_count": 2,
   "metadata": {},
   "outputs": [
    {
     "ename": "AttributeError",
     "evalue": "module 'd4rl' has no attribute 'qlearning_dataset_names'",
     "output_type": "error",
     "traceback": [
      "\u001b[0;31m---------------------------------------------------------------------------\u001b[0m",
      "\u001b[0;31mAttributeError\u001b[0m                            Traceback (most recent call last)",
      "Cell \u001b[0;32mIn[2], line 3\u001b[0m\n\u001b[1;32m      1\u001b[0m \u001b[39mimport\u001b[39;00m \u001b[39md4rl\u001b[39;00m\n\u001b[0;32m----> 3\u001b[0m datasets \u001b[39m=\u001b[39m d4rl\u001b[39m.\u001b[39;49mqlearning_dataset_names \u001b[39m+\u001b[39m d4rl\u001b[39m.\u001b[39mcontrol_suite_dataset_names\n\u001b[1;32m      4\u001b[0m \u001b[39mprint\u001b[39m(datasets)\n",
      "\u001b[0;31mAttributeError\u001b[0m: module 'd4rl' has no attribute 'qlearning_dataset_names'"
     ]
    }
   ],
   "source": [
    "import d4rl\n",
    "\n",
    "datasets = d4rl.qlearning_dataset_names + d4rl.control_suite_dataset_names\n",
    "print(datasets)\n",
    "print"
   ]
  },
  {
   "cell_type": "code",
   "execution_count": 2,
   "metadata": {},
   "outputs": [
    {
     "name": "stdout",
     "output_type": "stream",
     "text": [
      "Sampled value: tensor(1.4636)\n",
      "Log probability: tensor(-1.9900)\n",
      "tensor(-0.2640)\n"
     ]
    }
   ],
   "source": [
    "import torch\n",
    "import numpy as np\n",
    "\n",
    "# 创建一个均值为 0，标准差为 1 的正态分布对象\n",
    "normal_dist = torch.distributions.Normal(0, 1)\n",
    "\n",
    "# 从正态分布中采样一个随机数\n",
    "sample = normal_dist.sample()\n",
    "\n",
    "# 计算采样结果的对数概率 (概率密度函数)\n",
    "log_prob = normal_dist.log_prob(sample)\n",
    "\n",
    "print(\"Sampled value:\", sample)\n",
    "print(\"Log probability:\", log_prob)\n",
    "\n",
    "sam = normal_dist.rsample()\n",
    "print(sam)\n",
    "log = np.log(sample)"
   ]
  },
  {
   "cell_type": "code",
   "execution_count": 4,
   "metadata": {},
   "outputs": [
    {
     "ename": "AttributeError",
     "evalue": "'Tensor' object has no attribute 'log_prob'",
     "output_type": "error",
     "traceback": [
      "\u001b[0;31m---------------------------------------------------------------------------\u001b[0m",
      "\u001b[0;31mAttributeError\u001b[0m                            Traceback (most recent call last)",
      "Cell \u001b[0;32mIn[4], line 6\u001b[0m\n\u001b[1;32m      3\u001b[0m action \u001b[39m=\u001b[39m [\u001b[39m1.2\u001b[39m, \u001b[39m2.3\u001b[39m, \u001b[39m3.4\u001b[39m]\n\u001b[1;32m      4\u001b[0m action \u001b[39m=\u001b[39m torch\u001b[39m.\u001b[39mtensor(action)\n\u001b[0;32m----> 6\u001b[0m action\u001b[39m.\u001b[39;49mlog_prob()\n",
      "\u001b[0;31mAttributeError\u001b[0m: 'Tensor' object has no attribute 'log_prob'"
     ]
    }
   ],
   "source": [
    "import torch\n",
    "\n",
    "action = [1.2, 2.3, 3.4]\n",
    "action = torch.tensor(action)\n",
    "\n",
    "action.log_prob()"
   ]
  },
  {
   "cell_type": "code",
   "execution_count": 12,
   "metadata": {},
   "outputs": [
    {
     "name": "stdout",
     "output_type": "stream",
     "text": [
      "tensor([[-1.6389, -3.5639, -6.6989],\n",
      "        [-1.6389, -3.5639, -6.6989]])\n",
      "tensor([[-11.9018],\n",
      "        [-11.9018]])\n"
     ]
    }
   ],
   "source": [
    "import torch\n",
    "from torch.distributions.normal import Normal\n",
    "\n",
    "\n",
    "m = Normal(torch.tensor([0.0]), torch.tensor([1.0]))\n",
    "\n",
    "t = [[1.2, 2.3, 3.4], [1.2, 2.3, 3.4]]\n",
    "a = m.log_prob(torch.tensor(t))\n",
    "print(a)\n",
    "\n",
    "b = m.log_prob(torch.tensor(t)).sum(-1, keepdim=True)\n",
    "print(b)"
   ]
  },
  {
   "cell_type": "code",
   "execution_count": 1,
   "metadata": {},
   "outputs": [
    {
     "data": {
      "image/png": "[encoded data removed]",
      "text/plain": [
       "<Figure size 640x480 with 1 Axes>"
      ]
     },
     "metadata": {},
     "output_type": "display_data"
    }
   ],
   "source": [
    "import numpy as np\n",
    "import matplotlib.pyplot as plt\n",
    "from scipy.stats import norm\n",
    "\n",
    "# Define the parameters of the original normal distribution\n",
    "mu = 0\n",
    "sigma = 1\n",
    "\n",
    "# Define the range of the transformed variable\n",
    "y = np.linspace(-0.99, 0.99, 100)\n",
    "\n",
    "# Calculate the PDF of the tanh function\n",
    "f_y = norm.pdf(np.arctanh(y), mu, sigma) * np.abs(1 / (1 - y**2))\n",
    "\n",
    "# Plot the PDF of the tanh function\n",
    "plt.plot(y, f_y)\n",
    "plt.xlabel('y')\n",
    "plt.ylabel('f_Y(y)')\n",
    "plt.title('PDF of tanh function')\n",
    "plt.show()\n"
   ]
  },
  {
   "cell_type": "markdown",
   "metadata": {},
   "source": [
    "GitHub Copilot: tanh_normal 分布是一种连续概率分布，它是由一个标准正态分布 $z$ 通过以下变换得到的：\n",
    "\n",
    "$$\n",
    "x = \\mu + \\sigma \\cdot \\tanh(z)\n",
    "$$\n",
    "\n",
    "其中，$\\mu$ 和 $\\sigma$ 是分布的均值和标准差。tanh_normal 分布的概率密度函数可以表示为：\n",
    "\n",
    "$$\n",
    "p(x) = \\frac{1}{\\sigma \\cdot \\sqrt{2\\pi}} \\cdot \\frac{1}{\\cosh^2\\left(\\frac{x-\\mu}{\\sigma}\\right)}\n",
    "$$\n",
    "\n",
    "tanh_normal 分布的对数概率密度可以表示为：\n",
    "\n",
    "$$\n",
    "\\log p(x) = -\\log(\\sigma) - \\frac{1}{2}\\log(2\\pi) - 2\\cdot\\sum_{i=1}^D\\log\\left(\\exp\\left(\\frac{2}{\\sigma_i}(x_i-\\mu_i)\\right) + 1\\right)\n",
    "$$\n",
    "\n",
    "其中，$D$ 是分布的维度。这个式子可以通过对概率密度函数取对数并化简得到。在实际计算中，通常使用这个式子来计算 tanh_normal 分布的对数概率密度，因为它可以避免数值下溢的问题。"
   ]
  },
  {
   "cell_type": "markdown",
   "metadata": {},
   "source": [
    "GitHub Copilot: 在强化学习中，我们通常使用 Q-learning 算法来学习一个值函数 $Q(s,a)$，它表示在状态 $s$ 下采取动作 $a$ 的价值。Q-learning 算法的更新公式如下：\n",
    "\n",
    "$$\n",
    "Q(s_t,a_t) \\leftarrow Q(s_t,a_t) + \\alpha \\left(r_t + \\gamma \\max_{a'} Q(s_{t+1},a') - Q(s_t,a_t)\\right)\n",
    "$$\n",
    "\n",
    "其中，$r_t$ 是在状态 $s_t$ 下采取动作 $a_t$ 后获得的奖励，$\\gamma$ 是折扣因子，$\\alpha$ 是学习率，$s_{t+1}$ 是采取动作 $a_t$ 后转移到的下一个状态，$\\max_{a'} Q(s_{t+1},a')$ 是在下一个状态 $s_{t+1}$ 下采取最优动作所获得的最大价值。\n",
    "\n",
    "在实际应用中，我们通常使用一个目标网络（target network）来计算目标价值 $\\hat{Q}(s_t,a_t)$，以避免价值函数的过度估计。目标网络的更新方式如下：\n",
    "\n",
    "$$\n",
    "\\hat{Q}(s_t,a_t) \\leftarrow r_t + \\gamma \\max_{a'} Q'(s_{t+1},a')\n",
    "$$\n",
    "\n",
    "其中，$Q'(s_{t+1},a')$ 是目标网络在下一个状态 $s_{t+1}$ 下采取动作 $a'$ 所获得的价值。\n",
    "\n",
    "在这个更新公式中，$(1 - terminals)$ 的作用是将终止状态的目标价值设为 $0$。因为在终止状态下，不存在下一个状态 $s_{t+1}$，所以目标价值应该为当前状态的奖励 $r_t$。而在其他状态下，目标价值应该为 $r_t + \\gamma \\max_{a'} Q'(s_{t+1},a')$。因此，$(1 - terminals)$ 的作用是将终止状态的目标价值设为 $0$，而在其他状态下，目标价值应该为 $r_t + \\gamma \\max_{a'} Q'(s_{t+1},a')$。"
   ]
  },
  {
   "cell_type": "markdown",
   "metadata": {},
   "source": [
    "GitHub Copilot: 在强化学习中，我们通常将一个任务建模为一个马尔可夫决策过程（Markov Decision Process，MDP）。MDP 是一个五元组 $(S,A,P,R,\\gamma)$，其中 $S$ 是状态集合，$A$ 是动作集合，$P$ 是状态转移概率函数，$R$ 是奖励函数，$\\gamma$ 是折扣因子。\n",
    "\n",
    "在 MDP 中，智能体在状态 $s_t$ 下采取动作 $a_t$，会转移到下一个状态 $s_{t+1}$，并获得一个奖励 $r_t$。目标价值 $\\hat{Q}(s_t,a_t)$ 表示在状态 $s_t$ 下采取动作 $a_t$ 的目标价值，它应该等于当前时刻的奖励 $r_t$ 加上下一个状态的最大价值 $Q'(s_{t+1},a')$，即：\n",
    "\n",
    "$$\n",
    "\\hat{Q}(s_t,a_t) = r_t + \\gamma \\max_{a'} Q'(s_{t+1},a')\n",
    "$$\n",
    "\n",
    "但是，在终止状态下，不存在下一个状态 $s_{t+1}$，因此无法计算下一个状态的最大价值。因此，我们将终止状态的目标价值设为当前状态的奖励 $r_t$，即：\n",
    "\n",
    "$$\n",
    "\\hat{Q}(s_t,a_t) = r_t\n",
    "$$\n",
    "\n",
    "这样可以确保在终止状态下，目标价值等于当前状态的奖励。"
   ]
  }
 ],
 "metadata": {
  "kernelspec": {
   "display_name": "Python 3",
   "language": "python",
   "name": "python3"
  },
  "language_info": {
   "codemirror_mode": {
    "name": "ipython",
    "version": 3
   },
   "file_extension": ".py",
   "mimetype": "text/x-python",
   "name": "python",
   "nbconvert_exporter": "python",
   "pygments_lexer": "ipython3",
   "version": "3.9.16"
  },
  "orig_nbformat": 4
 },
 "nbformat": 4,
 "nbformat_minor": 2
}
