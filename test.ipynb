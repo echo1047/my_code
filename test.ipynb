{
 "cells": [
  {
   "cell_type": "code",
   "execution_count": 3,
   "metadata": {},
   "outputs": [
    {
     "name": "stderr",
     "output_type": "stream",
     "text": [
      "load datafile: 100%|██████████| 8/8 [00:00<00:00, 36.26it/s]\n"
     ]
    }
   ],
   "source": [
    "import gym\n",
    "import d4rl # Import required to register environments, you may need to also import the submodule\n",
    "\n",
    "# Create the environment\n",
    "env = gym.make('maze2d-umaze-v1')\n",
    "\n",
    "# d4rl abides by the OpenAI gym interface\n",
    "env.reset()\n",
    "env.step(env.action_space.sample())\n",
    "\n",
    "# Each task is associated with a dataset\n",
    "# dataset contains observations, actions, rewards, terminals, and infos\n",
    "# dataset = env.get_dataset()\n",
    "# print(dataset['observations']) # An N x dim_observation Numpy array of observations\n",
    "\n",
    "# Alternatively, use d4rl.qlearning_dataset which\n",
    "# also adds next_observations.\n",
    "dataset = d4rl.qlearning_dataset(env)\n",
    "print(dataset[0][:])"
   ]
  }
 ],
 "metadata": {
  "kernelspec": {
   "display_name": "Python 3",
   "language": "python",
   "name": "python3"
  },
  "language_info": {
   "codemirror_mode": {
    "name": "ipython",
    "version": 3
   },
   "file_extension": ".py",
   "mimetype": "text/x-python",
   "name": "python",
   "nbconvert_exporter": "python",
   "pygments_lexer": "ipython3",
   "version": "3.9.16"
  },
  "orig_nbformat": 4
 },
 "nbformat": 4,
 "nbformat_minor": 2
}
